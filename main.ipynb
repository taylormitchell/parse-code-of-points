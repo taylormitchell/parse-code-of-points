{
 "cells": [
  {
   "cell_type": "code",
   "execution_count": 1,
   "metadata": {},
   "outputs": [],
   "source": [
    "from extract import load_and_parse\n",
    "skills = load_and_parse()"
   ]
  },
  {
   "cell_type": "code",
   "execution_count": 4,
   "metadata": {},
   "outputs": [],
   "source": [
    "from config import cop_data"
   ]
  },
  {
   "cell_type": "code",
   "execution_count": 9,
   "metadata": {},
   "outputs": [
    {
     "data": {
      "text/plain": [
       "{'num': 4,\n",
       " 'name': 'EG IV: Dismounts',\n",
       " 'short': 'Dismounts',\n",
       " 'page_range': [159, 161],\n",
       " 'skills': {6: {'value': 'G', 'value_bbox': [0.45, 0.8, 0.65, 1]},\n",
       "  54: {'value': 'G', 'value_box': [0.45, 0.8, 0.6, 0.92]},\n",
       "  60: {'value': 'G', 'value_box': [0.45, 0.8, 0.6, 0.92]}}}"
      ]
     },
     "execution_count": 9,
     "metadata": {},
     "output_type": "execute_result"
    }
   ],
   "source": [
    "cop_data[\"events\"][5][\"eg\"][3]"
   ]
  },
  {
   "cell_type": "code",
   "execution_count": 3,
   "metadata": {},
   "outputs": [
    {
     "name": "stdout",
     "output_type": "stream",
     "text": [
      "id: HB-4-60\n",
      "event: Horizontal Bar\n",
      "event_short: H-Bar\n",
      "event_acronym: HB\n",
      "eg: EG IV: Dismounts\n",
      "eg_num: 4\n",
      "box_num: 60\n",
      "value: G\n",
      "image_processed: \n"
     ]
    },
    {
     "data": {
      "image/png": "[encoded data removed]",
      "text/plain": [
       "<PIL.Image.Image image mode=RGB size=374x348>"
      ]
     },
     "metadata": {},
     "output_type": "display_data"
    },
    {
     "name": "stdout",
     "output_type": "stream",
     "text": [
      "page: 160\n"
     ]
    }
   ],
   "source": [
    "import random\n",
    "from PIL import Image\n",
    "id = \"HB-4-60\"\n",
    "skill = [sk for sk in skills if sk[\"id\"] == id][0]\n",
    "# skill = random.choice(skills)\n",
    "num = skill[\"box_num\"]\n",
    "mask = [3, 0, 12*len(str(num)), 20]\n",
    "for key, value in skill.items():\n",
    "    if key.startswith(\"image\"):\n",
    "        if key == \"image_processed\":\n",
    "            print(key + \": \")\n",
    "            img = skill[key].copy()\n",
    "            display(Image.fromarray(img))\n",
    "    else:\n",
    "        print(key + \": \" + str(value))"
   ]
  },
  {
   "cell_type": "code",
   "execution_count": 10,
   "metadata": {},
   "outputs": [
    {
     "name": "stdout",
     "output_type": "stream",
     "text": [
      "{'id': 'HB-4-60', 'event': 'Horizontal Bar', 'event_short': 'H-Bar', 'event_acronym': 'HB', 'eg': 'EG IV: Dismounts', 'eg_num': 4, 'box_num': 60, 'value': 'G', 'image_filename': 'HB-4-60.png', 'image_raw': array([[[255, 255, 255],\n",
      "        [255, 255, 255],\n",
      "        [255, 255, 255],\n",
      "        ...,\n",
      "        [255, 255, 255],\n",
      "        [255, 255, 255],\n",
      "        [255, 255, 255]],\n",
      "\n",
      "       [[255, 255, 255],\n",
      "        [255, 255, 255],\n",
      "        [255, 255, 255],\n",
      "        ...,\n",
      "        [255, 255, 255],\n",
      "        [255, 255, 255],\n",
      "        [255, 255, 255]],\n",
      "\n",
      "       [[255, 255, 255],\n",
      "        [255, 255, 255],\n",
      "        [246, 246, 246],\n",
      "        ...,\n",
      "        [255, 255, 255],\n",
      "        [255, 255, 255],\n",
      "        [255, 255, 255]],\n",
      "\n",
      "       ...,\n",
      "\n",
      "       [[255, 255, 255],\n",
      "        [255, 255, 255],\n",
      "        [255, 255, 255],\n",
      "        ...,\n",
      "        [255, 255, 255],\n",
      "        [255, 255, 255],\n",
      "        [255, 255, 255]],\n",
      "\n",
      "       [[255, 255, 255],\n",
      "        [255, 255, 255],\n",
      "        [255, 255, 255],\n",
      "        ...,\n",
      "        [255, 255, 255],\n",
      "        [255, 255, 255],\n",
      "        [255, 255, 255]],\n",
      "\n",
      "       [[255, 255, 255],\n",
      "        [255, 255, 255],\n",
      "        [255, 255, 255],\n",
      "        ...,\n",
      "        [255, 255, 255],\n",
      "        [255, 255, 255],\n",
      "        [255, 255, 255]]], dtype=uint8), 'image_processed': array([[[255, 255, 255],\n",
      "        [255, 255, 255],\n",
      "        [255, 255, 255],\n",
      "        ...,\n",
      "        [255, 255, 255],\n",
      "        [255, 255, 255],\n",
      "        [255, 255, 255]],\n",
      "\n",
      "       [[255, 255, 255],\n",
      "        [255, 255, 255],\n",
      "        [255, 255, 255],\n",
      "        ...,\n",
      "        [255, 255, 255],\n",
      "        [255, 255, 255],\n",
      "        [255, 255, 255]],\n",
      "\n",
      "       [[255, 255, 255],\n",
      "        [255, 255, 255],\n",
      "        [255, 255, 255],\n",
      "        ...,\n",
      "        [255, 255, 255],\n",
      "        [255, 255, 255],\n",
      "        [255, 255, 255]],\n",
      "\n",
      "       ...,\n",
      "\n",
      "       [[255, 255, 255],\n",
      "        [255, 255, 255],\n",
      "        [255, 255, 255],\n",
      "        ...,\n",
      "        [255, 255, 255],\n",
      "        [255, 255, 255],\n",
      "        [255, 255, 255]],\n",
      "\n",
      "       [[255, 255, 255],\n",
      "        [255, 255, 255],\n",
      "        [255, 255, 255],\n",
      "        ...,\n",
      "        [255, 255, 255],\n",
      "        [255, 255, 255],\n",
      "        [255, 255, 255]],\n",
      "\n",
      "       [[255, 255, 255],\n",
      "        [255, 255, 255],\n",
      "        [255, 255, 255],\n",
      "        ...,\n",
      "        [255, 255, 255],\n",
      "        [255, 255, 255],\n",
      "        [255, 255, 255]]], dtype=uint8), 'page': 160}\n"
     ]
    },
    {
     "data": {
      "image/png": "[encoded data removed]",
      "text/plain": [
       "<PIL.Image.Image image mode=RGB size=374x348>"
      ]
     },
     "metadata": {},
     "output_type": "display_data"
    },
    {
     "data": {
      "image/png": "[encoded data removed]",
      "text/plain": [
       "<PIL.Image.Image image mode=RGB size=56x42>"
      ]
     },
     "metadata": {},
     "output_type": "display_data"
    }
   ],
   "source": [
    "# Interface used to create the mask\n",
    "from extract import masked_fill_pct \n",
    "import json\n",
    "id = \"HB-4-60\"\n",
    "with open(\"data/skills.json\") as f:\n",
    "    skills = json.load(f)\n",
    "skill = [sk for sk in skills if sk[\"id\"] == id][0]\n",
    "fn = skill[\"image_filename\"]\n",
    "\n",
    "with open(\"data/img/masked/\" + fn, \"rb\") as f:\n",
    "    \n",
    "    img = np.array()\n",
    "img = skill[\"image_processed\"]\n",
    "mask = [0.45, 0.8, 0.6, 0.92]\n",
    "x1_pct, y1_pct, x2_pct, y2_pct = mask\n",
    "x1 = int(x1_pct * img.shape[1])\n",
    "y1 = int(y1_pct * img.shape[0])\n",
    "x2 = int(x2_pct * img.shape[1])\n",
    "y2 = int(y2_pct * img.shape[0])\n",
    "masked = masked_fill_pct(img.copy(), mask, 0)\n",
    "cutout = img[y1:y2, x1:x2]\n",
    "print(skill)\n",
    "display(Image.fromarray(masked))\n",
    "display(Image.fromarray(cutout))\n"
   ]
  },
  {
   "cell_type": "code",
   "execution_count": 1,
   "metadata": {},
   "outputs": [],
   "source": [
    "from os import path\n",
    "from pdf2image import convert_from_path\n",
    "import cv2\n",
    "import numpy as np\n",
    "from PIL import Image\n",
    "from config import cop_data\n",
    "\n",
    "page_images = convert_from_path('en_ 2022-2024 MAG CoP.pdf', 200)"
   ]
  },
  {
   "cell_type": "code",
   "execution_count": null,
   "metadata": {},
   "outputs": [],
   "source": []
  },
  {
   "cell_type": "code",
   "execution_count": 2,
   "metadata": {},
   "outputs": [],
   "source": [
    "def render_borders(image, hlines, vlines):\n",
    "    blank = np.zeros(image.shape, np.uint8) + 255\n",
    "    for hline in hlines:\n",
    "        start, end = hline\n",
    "        blank[start:end, :] = 0\n",
    "    for vline in vlines:\n",
    "        start, end = vline\n",
    "        blank[:, start:end] = 0\n",
    "    return Image.fromarray(blank)"
   ]
  },
  {
   "cell_type": "code",
   "execution_count": 3,
   "metadata": {},
   "outputs": [],
   "source": [
    "def get_borders(image):\n",
    "    # Convert the image to grayscale\n",
    "    gray = cv2.cvtColor(image, cv2.COLOR_BGR2GRAY)\n",
    "    # Create a binary image\n",
    "    _, binary = cv2.threshold(gray, 220, 255, cv2.THRESH_BINARY)\n",
    "\n",
    "    # Get the horizontal and vertical lines\n",
    "    vsum = binary.sum(axis=0)\n",
    "    hsum = binary.sum(axis=1)\n",
    "    hlines = np.where(hsum < 0.4 * (hsum.max() - hsum.min()))[0]\n",
    "    vlines = np.where(vsum < 0.4 * (vsum.max() - vsum.min()))[0]\n",
    "    \n",
    "    # Group adjacent lines into spans\n",
    "    hline_spans = [];\n",
    "    current = [];\n",
    "    for i in range(0, len(hlines)):\n",
    "        if len(current) == 0 or hlines[i] - current[-1] < 20:\n",
    "            current.append(hlines[i])\n",
    "        else:\n",
    "            hline_spans.append([current[0], current[-1] + 1])\n",
    "            current = [hlines[i]]\n",
    "    hline_spans.append([current[0], current[-1] + 1])\n",
    "    vline_spans = [];\n",
    "    current = [];\n",
    "    for i in range(0, len(vlines)):\n",
    "        if len(current) == 0 or vlines[i] - current[-1] < 10:\n",
    "            current.append(vlines[i])\n",
    "        else:\n",
    "            vline_spans.append([current[0], current[-1] + 1])\n",
    "            current = [vlines[i]]\n",
    "    vline_spans.append([current[0], current[-1] + 1])\n",
    "\n",
    "    return hline_spans[1:], vline_spans\n",
    "\n",
    "# test the function\n",
    "for event in cop_data[\"events\"]:\n",
    "    for eg in event[\"eg\"]:\n",
    "        first, last = eg[\"page_range\"]\n",
    "        for page_num in range(first, last + 1):\n",
    "            page = page_images[page_num - 1]\n",
    "            hlines, vlines = get_borders(np.array(page))\n",
    "            assert len(hlines) == 5\n",
    "            assert len(vlines) == 7"
   ]
  },
  {
   "cell_type": "code",
   "execution_count": 4,
   "metadata": {},
   "outputs": [],
   "source": [
    "def get_boxes(page):\n",
    "    hlines, vlines = get_borders(page)\n",
    "    imgs = []\n",
    "    for i in range(1, len(hlines)):\n",
    "        for j in range(1, len(vlines)):\n",
    "            y1 = hlines[i-1][1]\n",
    "            y2 = hlines[i][0]\n",
    "            x1 = vlines[j-1][1]\n",
    "            x2 = vlines[j][0]\n",
    "            img = page[y1:y2, x1:x2]\n",
    "            imgs.append(img)\n",
    "\n",
    "    img_sums = [img.sum() for img in imgs]\n",
    "    threshold = np.mean(img_sums) #+ 0.2 * np.std(img_sums)\n",
    "    return [{ \"img\": img, \"is_empty\": img.sum() > threshold } for img in imgs]\n",
    "    "
   ]
  },
  {
   "cell_type": "code",
   "execution_count": 5,
   "metadata": {},
   "outputs": [],
   "source": [
    "def masked_fill_pct(img, box_pct, color=255):\n",
    "    x1_pct, y1_pct, x2_pct, y2_pct = box_pct\n",
    "    x1 = int(x1_pct * img.shape[1])\n",
    "    y1 = int(y1_pct * img.shape[0])\n",
    "    x2 = int(x2_pct * img.shape[1])\n",
    "    y2 = int(y2_pct * img.shape[0])\n",
    "    img[y1:y2, x1:x2] = color\n",
    "    return img"
   ]
  },
  {
   "cell_type": "code",
   "execution_count": 100,
   "metadata": {},
   "outputs": [],
   "source": [
    "\n",
    "skills = []\n",
    "values = \"ABCDEF\"\n",
    "for event in cop_data[\"events\"]:\n",
    "    for egr in event[\"eg\"]:\n",
    "        if event[\"acronym\"] == \"VT\":\n",
    "            box_num = 100 * egr[\"num\"]\n",
    "        else:\n",
    "            box_num = 0;\n",
    "        first, last = egr[\"page_range\"]\n",
    "        for p in range(first - 1, last):\n",
    "            page_arr = np.array(page_images[p])\n",
    "            for box in get_boxes(page_arr):\n",
    "                box_num += 1\n",
    "                if (box[\"is_empty\"]):\n",
    "                    continue\n",
    "                id = event[\"acronym\"] + \"-\" + str(egr[\"num\"]) + \"-\" + str(box_num)\n",
    "                filename = id + \".png\"\n",
    "\n",
    "                img_proc = box[\"img\"].copy()\n",
    "                skill = egr.get(\"skills\", {}).get(box_num, {})\n",
    "                # mask out the value\n",
    "                value_bbox = skill.get(\"value_bbox\")\n",
    "                if (value_bbox):\n",
    "                    masked_fill_pct(img_proc, value_bbox)\n",
    "                # mask out the box number\n",
    "                mask = [0, 0, 12*len(str(box_num)), 20]\n",
    "                x1, y1, x2, y2 = mask\n",
    "                img_proc[y1:y2, x1:x2] = 255\n",
    "\n",
    "                value = skill.get(\"value\") or values[(box_num - 1) % len(values)]\n",
    "                skills.append({\n",
    "                    \"id\": id,\n",
    "                    \"event\": event[\"name\"],\n",
    "                    \"event_short\": event[\"short\"],\n",
    "                    \"event_acronym\": event[\"acronym\"],\n",
    "                    \"eg\": egr[\"name\"],\n",
    "                    \"eg_num\": egr[\"num\"],\n",
    "                    \"box_num\": box_num,\n",
    "                    \"value\": value,\n",
    "                    \"image_filename\": filename,\n",
    "                    \"image_raw\": box[\"img\"],\n",
    "                    \"image_processed\": img_proc,\n",
    "                    \"page\": p,\n",
    "                })\n",
    "                # todo: remove the number from top left corner\n",
    "                # todo/maybe: resize the image to 32x32\n",
    "                # cv2.imwrite(path.join(img_dir_proc, filename), box)"
   ]
  },
  {
   "cell_type": "code",
   "execution_count": 106,
   "metadata": {},
   "outputs": [],
   "source": [
    "import json\n",
    "from copy import deepcopy\n",
    "persisted_skills = deepcopy(skills)\n",
    "img_dir_raw = \"data/img/raw/\"\n",
    "img_dir_proc = \"data/img/masked/\"\n",
    "for skill in persisted_skills:\n",
    "    cv2.imwrite(path.join(img_dir_raw, skill[\"image_filename\"]), skill[\"image_raw\"])\n",
    "    cv2.imwrite(path.join(img_dir_proc, skill[\"image_filename\"]), skill[\"image_processed\"])\n",
    "    del skill[\"image_raw\"]\n",
    "    del skill[\"image_processed\"]\n",
    "with open(\"data/skills.json\", \"w\") as f:\n",
    "    json.dump(persisted_skills, f, indent=2)"
   ]
  },
  {
   "cell_type": "code",
   "execution_count": 31,
   "metadata": {},
   "outputs": [
    {
     "data": {
      "text/plain": [
       "3"
      ]
     },
     "execution_count": 31,
     "metadata": {},
     "output_type": "execute_result"
    }
   ],
   "source": [
    "len(str(110))"
   ]
  },
  {
   "cell_type": "code",
   "execution_count": 105,
   "metadata": {},
   "outputs": [
    {
     "name": "stdout",
     "output_type": "stream",
     "text": [
      "id: FX-3-41\n",
      "event: Floor Exercise\n",
      "event_short: Floor\n",
      "event_acronym: FX\n",
      "eg: EG III: Acrobatic elements backward\n",
      "eg_num: 3\n",
      "box_num: 41\n",
      "value: E\n",
      "image_processed: \n"
     ]
    },
    {
     "data": {
      "image/png": "[encoded data removed]",
      "text/plain": [
       "<PIL.Image.Image image mode=RGB size=374x354>"
      ]
     },
     "metadata": {},
     "output_type": "display_data"
    },
    {
     "name": "stdout",
     "output_type": "stream",
     "text": [
      "page: 51\n"
     ]
    }
   ],
   "source": [
    "import random\n",
    "# id = \"FX-1-10\"\n",
    "# skill = [sk for sk in skills if sk[\"id\"] == id][0]\n",
    "skill = random.choice(skills)\n",
    "num = skill[\"box_num\"]\n",
    "mask = [3, 0, 12*len(str(num)), 20]\n",
    "for key, value in skill.items():\n",
    "    if key.startswith(\"image\"):\n",
    "        if key == \"image_processed\":\n",
    "            print(key + \": \")\n",
    "            img = skill[key].copy()\n",
    "            display(Image.fromarray(img))\n",
    "    else:\n",
    "        print(key + \": \" + str(value))"
   ]
  },
  {
   "cell_type": "code",
   "execution_count": null,
   "metadata": {},
   "outputs": [],
   "source": []
  },
  {
   "cell_type": "code",
   "execution_count": null,
   "metadata": {},
   "outputs": [],
   "source": []
  },
  {
   "cell_type": "code",
   "execution_count": null,
   "metadata": {},
   "outputs": [],
   "source": []
  },
  {
   "cell_type": "code",
   "execution_count": null,
   "metadata": {},
   "outputs": [],
   "source": []
  },
  {
   "cell_type": "code",
   "execution_count": null,
   "metadata": {},
   "outputs": [],
   "source": []
  },
  {
   "cell_type": "code",
   "execution_count": null,
   "metadata": {},
   "outputs": [],
   "source": []
  },
  {
   "cell_type": "code",
   "execution_count": null,
   "metadata": {},
   "outputs": [],
   "source": []
  },
  {
   "cell_type": "code",
   "execution_count": 33,
   "metadata": {},
   "outputs": [],
   "source": [
    "# Interface used to create the mask\n",
    "# id = \"VT-1-101\"\n",
    "# skill = [sk for sk in skills if sk[\"id\"] == id][0]\n",
    "# img = skill[\"image_processed\"]\n",
    "# mask = [0, 0.9, 0.3, 1]\n",
    "# x1_pct, y1_pct, x2_pct, y2_pct = mask\n",
    "# x1 = int(x1_pct * img.shape[1])\n",
    "# y1 = int(y1_pct * img.shape[0])\n",
    "# x2 = int(x2_pct * img.shape[1])\n",
    "# y2 = int(y2_pct * img.shape[0])\n",
    "# masked = masked_fill_pct(img.copy(), mask, 0)\n",
    "# cutout = img[y1:y2, x1:x2]\n",
    "# print(skill)\n",
    "# display(Image.fromarray(masked))\n",
    "# display(Image.fromarray(cutout))"
   ]
  },
  {
   "cell_type": "code",
   "execution_count": null,
   "metadata": {},
   "outputs": [],
   "source": []
  }
 ],
 "metadata": {
  "kernelspec": {
   "display_name": "venv",
   "language": "python",
   "name": "python3"
  },
  "language_info": {
   "codemirror_mode": {
    "name": "ipython",
    "version": 3
   },
   "file_extension": ".py",
   "mimetype": "text/x-python",
   "name": "python",
   "nbconvert_exporter": "python",
   "pygments_lexer": "ipython3",
   "version": "3.9.7"
  },
  "orig_nbformat": 4,
  "vscode": {
   "interpreter": {
    "hash": "8c143192c35855a29a946a9d4099747610f24c1c0d0191ce899eed6d3f9e4554"
   }
  }
 },
 "nbformat": 4,
 "nbformat_minor": 2
}
